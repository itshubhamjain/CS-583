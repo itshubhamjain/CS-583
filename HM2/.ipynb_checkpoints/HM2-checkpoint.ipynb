{
 "cells": [
  {
   "cell_type": "markdown",
   "metadata": {},
   "source": [
    "# HM2: Numerical Optimization for Logistic Regression.\n",
    "\n",
    "### Name: [Shubham Jain]\n"
   ]
  },
  {
   "cell_type": "markdown",
   "metadata": {},
   "source": [
    "## 0. You will do the following:\n",
    "\n",
    "1. Read the lecture note: [click here](https://github.com/wangshusen/DeepLearning/blob/master/LectureNotes/Logistic/paper/logistic.pdf)\n",
    "\n",
    "2. Read, complete, and run my code.\n",
    "\n",
    "3. **Implement mini-batch SGD** and evaluate the performance.\n",
    "\n",
    "4. Convert the .IPYNB file to .HTML file.\n",
    "\n",
    "    * The HTML file must contain **the code** and **the output after execution**.\n",
    "    \n",
    "    * Missing **the output after execution** will not be graded.\n",
    "    \n",
    "5. Upload this .HTML file to your Google Drive, Dropbox, or your Github repo.  (If you submit the file to Google Drive or Dropbox, you must make the file \"open-access\". The delay caused by \"deny of access\" may result in late penalty.)\n",
    "\n",
    "6. Submit the link to this .HTML file to Canvas.\n",
    "\n",
    "    * Example: https://github.com/wangshusen/CS583-2020S/blob/master/homework/HM2/HM2.html\n",
    "\n",
    "\n",
    "## Grading criteria:\n",
    "\n",
    "1. When computing the ```gradient``` and ```objective function value``` using a batch of samples, use **matrix-vector multiplication** rather than a FOR LOOP of **vector-vector multiplications**.\n",
    "\n",
    "2. Plot ```objective function value``` against ```epochs```. In the plot, compare GD, SGD, and MB-SGD (with $b=8$ and $b=64$). The plot must look reasonable."
   ]
  },
  {
   "cell_type": "code",
   "execution_count": null,
   "metadata": {},
   "outputs": [],
   "source": []
  },
  {
   "cell_type": "markdown",
   "metadata": {},
   "source": [
    "# 1. Data processing\n",
    "\n",
    "- Download the Diabete dataset from https://www.csie.ntu.edu.tw/~cjlin/libsvmtools/datasets/binary/diabetes\n",
    "- Load the data using sklearn.\n",
    "- Preprocess the data."
   ]
  },
  {
   "cell_type": "markdown",
   "metadata": {},
   "source": [
    "## 1.1. Load the data"
   ]
  },
  {
   "cell_type": "code",
   "execution_count": 1,
   "metadata": {},
   "outputs": [
    {
     "name": "stdout",
     "output_type": "stream",
     "text": [
      "Shape of x: (768, 8)\n",
      "Shape of y: (768,)\n"
     ]
    }
   ],
   "source": [
    "from sklearn import datasets\n",
    "import numpy\n",
    "\n",
    "x_sparse, y = datasets.load_svmlight_file('diabetes')\n",
    "x = x_sparse.todense()\n",
    "\n",
    "print('Shape of x: ' + str(x.shape))\n",
    "print('Shape of y: ' + str(y.shape))"
   ]
  },
  {
   "cell_type": "markdown",
   "metadata": {},
   "source": [
    "## 1.2. Partition to training and test sets"
   ]
  },
  {
   "cell_type": "code",
   "execution_count": 6,
   "metadata": {},
   "outputs": [
    {
     "name": "stdout",
     "output_type": "stream",
     "text": [
      "Shape of x_train: (640, 8)\n",
      "Shape of x_test: (128, 8)\n",
      "Shape of y_train: (640, 1)\n",
      "Shape of y_test: (128, 1)\n"
     ]
    }
   ],
   "source": [
    "# partition the data to training and test sets\n",
    "n = x.shape[0]\n",
    "n_train = 640\n",
    "n_test = n - n_train\n",
    "\n",
    "rand_indices = numpy.random.permutation(n)\n",
    "train_indices = rand_indices[0:n_train]\n",
    "test_indices = rand_indices[n_train:n]\n",
    "\n",
    "x_train = x[train_indices, :]\n",
    "x_test = x[test_indices, :]\n",
    "y_train = y[train_indices].reshape(n_train, 1)\n",
    "y_test = y[test_indices].reshape(n_test, 1)\n",
    "\n",
    "print('Shape of x_train: ' + str(x_train.shape))\n",
    "print('Shape of x_test: ' + str(x_test.shape))\n",
    "print('Shape of y_train: ' + str(y_train.shape))\n",
    "print('Shape of y_test: ' + str(y_test.shape))"
   ]
  },
  {
   "cell_type": "markdown",
   "metadata": {},
   "source": [
    "## 1.3. Feature scaling"
   ]
  },
  {
   "cell_type": "markdown",
   "metadata": {},
   "source": [
    "Use the standardization to trainsform both training and test features"
   ]
  },
  {
   "cell_type": "code",
   "execution_count": 7,
   "metadata": {},
   "outputs": [
    {
     "name": "stdout",
     "output_type": "stream",
     "text": [
      "test mean = \n",
      "[[ 0.18147588  0.22794276  0.09076463 -0.08884258  0.2347644  -0.03877643\n",
      "   0.06170047  0.17599234]]\n",
      "test std = \n",
      "[[0.92453323 0.95724735 0.88968703 0.9321171  1.33461369 0.85323019\n",
      "  1.0671969  1.08019849]]\n"
     ]
    }
   ],
   "source": [
    "# Standardization\n",
    "import numpy\n",
    "\n",
    "# calculate mu and sig using the training set\n",
    "d = x_train.shape[1]\n",
    "mu = numpy.mean(x_train, axis=0).reshape(1, d)\n",
    "sig = numpy.std(x_train, axis=0).reshape(1, d)\n",
    "\n",
    "# transform the training features\n",
    "x_train = (x_train - mu) / (sig + 1E-6)\n",
    "\n",
    "# transform the test features\n",
    "x_test = (x_test - mu) / (sig + 1E-6)\n",
    "\n",
    "print('test mean = ')\n",
    "print(numpy.mean(x_test, axis=0))\n",
    "\n",
    "print('test std = ')\n",
    "print(numpy.std(x_test, axis=0))"
   ]
  },
  {
   "cell_type": "markdown",
   "metadata": {},
   "source": [
    "## 1.4. Add a dimension of all ones"
   ]
  },
  {
   "cell_type": "code",
   "execution_count": 8,
   "metadata": {},
   "outputs": [
    {
     "name": "stdout",
     "output_type": "stream",
     "text": [
      "Shape of x_train: (640, 9)\n",
      "Shape of x_test: (128, 9)\n"
     ]
    }
   ],
   "source": [
    "n_train, d = x_train.shape\n",
    "x_train = numpy.concatenate((x_train, numpy.ones((n_train, 1))), axis=1)\n",
    "\n",
    "n_test, d = x_test.shape\n",
    "x_test = numpy.concatenate((x_test, numpy.ones((n_test, 1))), axis=1)\n",
    "\n",
    "print('Shape of x_train: ' + str(x_train.shape))\n",
    "print('Shape of x_test: ' + str(x_test.shape))"
   ]
  },
  {
   "cell_type": "markdown",
   "metadata": {},
   "source": [
    "# 2. Logistic regression model\n",
    "\n",
    "The objective function is $Q (w; X, y) = \\frac{1}{n} \\sum_{i=1}^n \\log \\Big( 1 + \\exp \\big( - y_i x_i^T w \\big) \\Big) + \\frac{\\lambda}{2} \\| w \\|_2^2 $."
   ]
  },
  {
   "cell_type": "code",
   "execution_count": 9,
   "metadata": {},
   "outputs": [],
   "source": [
    "# Calculate the objective function value\n",
    "# Inputs:\n",
    "#     w: d-by-1 matrix\n",
    "#     x: n-by-d matrix\n",
    "#     y: n-by-1 matrix\n",
    "#     lam: scalar, the regularization parameter\n",
    "# Return:\n",
    "#     objective function value (scalar)\n",
    "def objective(w, x, y, lam):\n",
    "    n, d = x.shape\n",
    "    yx = numpy.multiply(y, x) # n-by-d matrix\n",
    "    yxw = numpy.dot(yx, w) # n-by-1 matrix\n",
    "    vec1 = numpy.exp(-yxw) # n-by-1 matrix\n",
    "    vec2 = numpy.log(1 + vec1) # n-by-1 matrix\n",
    "    loss = numpy.mean(vec2) # scalar\n",
    "    reg = lam / 2 * numpy.sum(w * w) # scalar\n",
    "    return loss + reg\n",
    "    "
   ]
  },
  {
   "cell_type": "code",
   "execution_count": 10,
   "metadata": {},
   "outputs": [
    {
     "name": "stdout",
     "output_type": "stream",
     "text": [
      "Initial objective function value = 0.6931471805599453\n"
     ]
    }
   ],
   "source": [
    "# initialize w\n",
    "d = x_train.shape[1]\n",
    "w = numpy.zeros((d, 1))\n",
    "\n",
    "# evaluate the objective function value at w\n",
    "lam = 1E-6\n",
    "objval0 = objective(w, x_train, y_train, lam)\n",
    "print('Initial objective function value = ' + str(objval0))"
   ]
  },
  {
   "cell_type": "markdown",
   "metadata": {},
   "source": [
    "# 3. Numerical optimization"
   ]
  },
  {
   "cell_type": "markdown",
   "metadata": {},
   "source": [
    "## 3.1. Gradient descent\n"
   ]
  },
  {
   "cell_type": "markdown",
   "metadata": {},
   "source": [
    "The gradient at $w$ is $g = - \\frac{1}{n} \\sum_{i=1}^n \\frac{y_i x_i }{1 + \\exp ( y_i x_i^T w)} + \\lambda w$"
   ]
  },
  {
   "cell_type": "code",
   "execution_count": 11,
   "metadata": {},
   "outputs": [],
   "source": [
    "# Calculate the gradient\n",
    "# Inputs:\n",
    "#     w: d-by-1 matrix\n",
    "#     x: n-by-d matrix\n",
    "#     y: n-by-1 matrix\n",
    "#     lam: scalar, the regularization parameter\n",
    "# Return:\n",
    "#     g: g: d-by-1 matrix, full gradient\n",
    "def gradient(w, x, y, lam):\n",
    "    n, d = x.shape\n",
    "    yx = numpy.multiply(y, x) # n-by-d matrix\n",
    "    yxw = numpy.dot(yx, w) # n-by-1 matrix\n",
    "    vec1 = numpy.exp(yxw) # n-by-1 matrix\n",
    "    vec2 = numpy.divide(yx, 1+vec1) # n-by-d matrix\n",
    "    vec3 = -numpy.mean(vec2, axis=0).reshape(d, 1) # d-by-1 matrix\n",
    "    g = vec3 + lam * w\n",
    "    return g"
   ]
  },
  {
   "cell_type": "code",
   "execution_count": 12,
   "metadata": {},
   "outputs": [],
   "source": [
    "# Gradient descent for solving logistic regression\n",
    "# Inputs:\n",
    "#     x: n-by-d matrix\n",
    "#     y: n-by-1 matrix\n",
    "#     lam: scalar, the regularization parameter\n",
    "#     stepsize: scalar\n",
    "#     max_iter: integer, the maximal iterations\n",
    "#     w: d-by-1 matrix, initialization of w\n",
    "# Return:\n",
    "#     w: d-by-1 matrix, the solution\n",
    "#     objvals: a record of each iteration's objective value\n",
    "def grad_descent(x, y, lam, stepsize, max_iter=100, w=None):\n",
    "    n, d = x.shape\n",
    "    objvals = numpy.zeros(max_iter) # store the objective values\n",
    "    if w is None:\n",
    "        w = numpy.zeros((d, 1)) # zero initialization\n",
    "    \n",
    "    for t in range(max_iter):\n",
    "        objval = objective(w, x, y, lam)\n",
    "        objvals[t] = objval\n",
    "        print('Objective value at t=' + str(t) + ' is ' + str(objval))\n",
    "        g = gradient(w, x, y, lam)\n",
    "        w -= stepsize * g\n",
    "    \n",
    "    return w, objvals"
   ]
  },
  {
   "cell_type": "markdown",
   "metadata": {},
   "source": [
    "Run gradient descent."
   ]
  },
  {
   "cell_type": "code",
   "execution_count": 16,
   "metadata": {},
   "outputs": [
    {
     "name": "stdout",
     "output_type": "stream",
     "text": [
      "Objective value at t=0 is 0.6931471805599453\n",
      "Objective value at t=1 is 0.5846158858029616\n",
      "Objective value at t=2 is 0.5405644110273535\n",
      "Objective value at t=3 is 0.5169363268700383\n",
      "Objective value at t=4 is 0.5022545238354992\n",
      "Objective value at t=5 is 0.49235929968008235\n",
      "Objective value at t=6 is 0.4853444653662395\n",
      "Objective value at t=7 is 0.48019701686585614\n",
      "Objective value at t=8 is 0.4763231410432768\n",
      "Objective value at t=9 is 0.47335027403858376\n",
      "Objective value at t=10 is 0.47103287878673655\n",
      "Objective value at t=11 is 0.46920300749547067\n",
      "Objective value at t=12 is 0.4677423797040301\n",
      "Objective value at t=13 is 0.466565694063172\n",
      "Objective value at t=14 is 0.46561020236874145\n",
      "Objective value at t=15 is 0.4648289606714316\n",
      "Objective value at t=16 is 0.46418633155307804\n",
      "Objective value at t=17 is 0.4636549124383933\n",
      "Objective value at t=18 is 0.4632133932975673\n",
      "Objective value at t=19 is 0.4628450348741942\n",
      "Objective value at t=20 is 0.4625365699798117\n",
      "Objective value at t=21 is 0.46227739859455264\n",
      "Objective value at t=22 is 0.4620589903913659\n",
      "Objective value at t=23 is 0.46187443588999294\n",
      "Objective value at t=24 is 0.4617181055619244\n",
      "Objective value at t=25 is 0.461585388318754\n",
      "Objective value at t=26 is 0.4614724890463025\n",
      "Objective value at t=27 is 0.46137627052282687\n",
      "Objective value at t=28 is 0.46129412902775935\n",
      "Objective value at t=29 is 0.4612238957566917\n",
      "Objective value at t=30 is 0.4611637581705892\n",
      "Objective value at t=31 is 0.46111219686442834\n",
      "Objective value at t=32 is 0.4610679346065804\n",
      "Objective value at t=33 is 0.4610298949878077\n",
      "Objective value at t=34 is 0.46099716870579854\n",
      "Objective value at t=35 is 0.46096898595252583\n",
      "Objective value at t=36 is 0.4609446937062306\n",
      "Objective value at t=37 is 0.4609237369852917\n",
      "Objective value at t=38 is 0.4609056433177646\n",
      "Objective value at t=39 is 0.46089000983255307\n",
      "Objective value at t=40 is 0.46087649249681495\n",
      "Objective value at t=41 is 0.46086479711722916\n",
      "Objective value at t=42 is 0.4608546717961315\n",
      "Objective value at t=43 is 0.4608459005917187\n",
      "Objective value at t=44 is 0.46083829817790767\n",
      "Objective value at t=45 is 0.4608317053365933\n",
      "Objective value at t=46 is 0.46082598514495166\n",
      "Objective value at t=47 is 0.4608210197445997\n",
      "Objective value at t=48 is 0.46081670759903515\n",
      "Objective value at t=49 is 0.46081296116176274\n",
      "Objective value at t=50 is 0.46080970489057355\n",
      "Objective value at t=51 is 0.4608068735541696\n",
      "Objective value at t=52 is 0.46080441078615064\n",
      "Objective value at t=53 is 0.460802267848669\n",
      "Objective value at t=54 is 0.4608004025740965\n",
      "Objective value at t=55 is 0.4607987784580591\n",
      "Objective value at t=56 is 0.4607973638813744\n",
      "Objective value at t=57 is 0.4607961314419073\n",
      "Objective value at t=58 is 0.46079505738028054\n",
      "Objective value at t=59 is 0.46079412108581846\n",
      "Objective value at t=60 is 0.4607933046711608\n",
      "Objective value at t=61 is 0.4607925926057127\n",
      "Objective value at t=62 is 0.4607919713995546\n",
      "Objective value at t=63 is 0.4607914293306754\n",
      "Objective value at t=64 is 0.4607909562094305\n",
      "Objective value at t=65 is 0.4607905431750147\n",
      "Objective value at t=66 is 0.4607901825194922\n",
      "Objective value at t=67 is 0.4607898675355643\n",
      "Objective value at t=68 is 0.46078959238480066\n",
      "Objective value at t=69 is 0.46078935198352194\n",
      "Objective value at t=70 is 0.4607891419039218\n",
      "Objective value at t=71 is 0.4607889582883506\n",
      "Objective value at t=72 is 0.4607887977749758\n",
      "Objective value at t=73 is 0.46078865743328057\n",
      "Objective value at t=74 is 0.46078853470807435\n",
      "Objective value at t=75 is 0.4607884273708749\n",
      "Objective value at t=76 is 0.4607883334776717\n",
      "Objective value at t=77 is 0.4607882513322226\n",
      "Objective value at t=78 is 0.46078817945414624\n",
      "Objective value at t=79 is 0.4607881165511731\n",
      "Objective value at t=80 is 0.46078806149500756\n",
      "Objective value at t=81 is 0.4607880133003224\n",
      "Objective value at t=82 is 0.46078797110647435\n",
      "Objective value at t=83 is 0.46078793416158464\n",
      "Objective value at t=84 is 0.4607879018086719\n",
      "Objective value at t=85 is 0.46078787347357314\n",
      "Objective value at t=86 is 0.4607878486544161\n",
      "Objective value at t=87 is 0.46078782691244413\n",
      "Objective value at t=88 is 0.46078780786401535\n",
      "Objective value at t=89 is 0.46078779117362667\n",
      "Objective value at t=90 is 0.4607877765478275\n",
      "Objective value at t=91 is 0.4607877637299108\n",
      "Objective value at t=92 is 0.4607877524952793\n",
      "Objective value at t=93 is 0.46078774264740063\n",
      "Objective value at t=94 is 0.46078773401427786\n",
      "Objective value at t=95 is 0.46078772644536486\n",
      "Objective value at t=96 is 0.4607877198088745\n",
      "Objective value at t=97 is 0.4607877139894264\n",
      "Objective value at t=98 is 0.4607877088859917\n",
      "Objective value at t=99 is 0.4607877044100968\n"
     ]
    }
   ],
   "source": [
    "lam = 1E-6\n",
    "stepsize = 1.0\n",
    "w, objvals_gd = grad_descent(x_train, y_train, lam, stepsize)"
   ]
  },
  {
   "cell_type": "markdown",
   "metadata": {},
   "source": [
    "## 3.2. Stochastic gradient descent (SGD)\n",
    "\n",
    "Define $Q_i (w) = \\log \\Big( 1 + \\exp \\big( - y_i x_i^T w \\big) \\Big) + \\frac{\\lambda}{2} \\| w \\|_2^2 $.\n",
    "\n",
    "The stochastic gradient at $w$ is $g_i = \\frac{\\partial Q_i }{ \\partial w} = -\\frac{y_i x_i }{1 + \\exp ( y_i x_i^T w)} + \\lambda w$."
   ]
  },
  {
   "cell_type": "code",
   "execution_count": 17,
   "metadata": {},
   "outputs": [],
   "source": [
    "# Calculate the objective Q_i and the gradient of Q_i\n",
    "# Inputs:\n",
    "#     w: d-by-1 matrix\n",
    "#     xi: 1-by-d matrix\n",
    "#     yi: scalar\n",
    "#     lam: scalar, the regularization parameter\n",
    "# Return:\n",
    "#     obj: scalar, the objective Q_i\n",
    "#     g: d-by-1 matrix, gradient of Q_i\n",
    "def stochastic_objective_gradient(w, xi, yi, lam):\n",
    "    d = xi.shape[0]\n",
    "    yx = yi * xi # 1-by-d matrix\n",
    "    yxw = float(numpy.dot(yx, w)) # scalar\n",
    "    \n",
    "    # calculate objective function Q_i\n",
    "    loss = numpy.log(1 + numpy.exp(-yxw)) # scalar\n",
    "    reg = lam / 2 * numpy.sum(w * w) # scalar\n",
    "    obj = loss + reg\n",
    "    \n",
    "    # calculate stochastic gradient\n",
    "    g_loss = -yx.T / (1 + numpy.exp(yxw)) # d-by-1 matrix\n",
    "    g = g_loss + lam * w # d-by-1 matrix\n",
    "    \n",
    "    return obj, g"
   ]
  },
  {
   "cell_type": "code",
   "execution_count": 18,
   "metadata": {},
   "outputs": [],
   "source": [
    "# SGD for solving logistic regression\n",
    "# Inputs:\n",
    "#     x: n-by-d matrix\n",
    "#     y: n-by-1 matrix\n",
    "#     lam: scalar, the regularization parameter\n",
    "#     stepsize: scalar\n",
    "#     max_epoch: integer, the maximal epochs\n",
    "#     w: d-by-1 matrix, initialization of w\n",
    "# Return:\n",
    "#     w: the solution\n",
    "#     objvals: record of each iteration's objective value\n",
    "def sgd(x, y, lam, stepsize, max_epoch=100, w=None):\n",
    "    n, d = x.shape\n",
    "    objvals = numpy.zeros(max_epoch) # store the objective values\n",
    "    if w is None:\n",
    "        w = numpy.zeros((d, 1)) # zero initialization\n",
    "    \n",
    "    for t in range(max_epoch):\n",
    "        # randomly shuffle the samples\n",
    "        rand_indices = numpy.random.permutation(n)\n",
    "        x_rand = x[rand_indices, :]\n",
    "        y_rand = y[rand_indices, :]\n",
    "        \n",
    "        objval = 0 # accumulate the objective values\n",
    "        for i in range(n):\n",
    "            xi = x_rand[i, :] # 1-by-d matrix\n",
    "            yi = float(y_rand[i, :]) # scalar\n",
    "            obj, g = stochastic_objective_gradient(w, xi, yi, lam)\n",
    "            objval += obj\n",
    "            w -= stepsize * g\n",
    "        \n",
    "        stepsize *= 0.9 # decrease step size\n",
    "        objval /= n\n",
    "        objvals[t] = objval\n",
    "        print('Objective value at epoch t=' + str(t) + ' is ' + str(objval))\n",
    "    \n",
    "    return w, objvals"
   ]
  },
  {
   "cell_type": "markdown",
   "metadata": {},
   "source": [
    "Run SGD."
   ]
  },
  {
   "cell_type": "code",
   "execution_count": 19,
   "metadata": {},
   "outputs": [
    {
     "name": "stdout",
     "output_type": "stream",
     "text": [
      "Objective value at epoch t=0 is 0.5174338774079522\n",
      "Objective value at epoch t=1 is 0.5132605842394521\n",
      "Objective value at epoch t=2 is 0.5101542944823664\n",
      "Objective value at epoch t=3 is 0.5002130269751256\n",
      "Objective value at epoch t=4 is 0.4992119036411665\n",
      "Objective value at epoch t=5 is 0.492559188625314\n",
      "Objective value at epoch t=6 is 0.48893036296614617\n",
      "Objective value at epoch t=7 is 0.4835290954659791\n",
      "Objective value at epoch t=8 is 0.4846474481464491\n",
      "Objective value at epoch t=9 is 0.480588999507516\n",
      "Objective value at epoch t=10 is 0.4820457821010867\n",
      "Objective value at epoch t=11 is 0.48096698062260357\n",
      "Objective value at epoch t=12 is 0.47750869118447864\n",
      "Objective value at epoch t=13 is 0.4740436128975566\n",
      "Objective value at epoch t=14 is 0.47501617887702496\n",
      "Objective value at epoch t=15 is 0.4724977527950826\n",
      "Objective value at epoch t=16 is 0.4728758286114115\n",
      "Objective value at epoch t=17 is 0.4720053715735106\n",
      "Objective value at epoch t=18 is 0.47013212402248\n",
      "Objective value at epoch t=19 is 0.46908134125941103\n",
      "Objective value at epoch t=20 is 0.4682267756388777\n",
      "Objective value at epoch t=21 is 0.4676067629912407\n",
      "Objective value at epoch t=22 is 0.4673036779081878\n",
      "Objective value at epoch t=23 is 0.46667753589790434\n",
      "Objective value at epoch t=24 is 0.4661407077219117\n",
      "Objective value at epoch t=25 is 0.46580212200709986\n",
      "Objective value at epoch t=26 is 0.46481076961565193\n",
      "Objective value at epoch t=27 is 0.46499444415582303\n",
      "Objective value at epoch t=28 is 0.46436454286347095\n",
      "Objective value at epoch t=29 is 0.46417198833793405\n",
      "Objective value at epoch t=30 is 0.4634743235789373\n",
      "Objective value at epoch t=31 is 0.46358838484413534\n",
      "Objective value at epoch t=32 is 0.46325811547192897\n",
      "Objective value at epoch t=33 is 0.46303553645667217\n",
      "Objective value at epoch t=34 is 0.4627640957476915\n",
      "Objective value at epoch t=35 is 0.46259512473760755\n",
      "Objective value at epoch t=36 is 0.4624463685260983\n",
      "Objective value at epoch t=37 is 0.462241308308258\n",
      "Objective value at epoch t=38 is 0.4621194378852659\n",
      "Objective value at epoch t=39 is 0.4619814408658821\n",
      "Objective value at epoch t=40 is 0.461863545711917\n",
      "Objective value at epoch t=41 is 0.46176025541218896\n",
      "Objective value at epoch t=42 is 0.46166651991462215\n",
      "Objective value at epoch t=43 is 0.461589097631808\n",
      "Objective value at epoch t=44 is 0.46150899805795725\n",
      "Objective value at epoch t=45 is 0.46143738615031227\n",
      "Objective value at epoch t=46 is 0.4613692606190886\n",
      "Objective value at epoch t=47 is 0.46131530066270343\n",
      "Objective value at epoch t=48 is 0.46126128629368957\n",
      "Objective value at epoch t=49 is 0.4612131573201605\n",
      "Objective value at epoch t=50 is 0.4611692643599691\n",
      "Objective value at epoch t=51 is 0.46113217097153686\n",
      "Objective value at epoch t=52 is 0.46109945902178123\n",
      "Objective value at epoch t=53 is 0.4610643072141188\n",
      "Objective value at epoch t=54 is 0.4610406149719609\n",
      "Objective value at epoch t=55 is 0.4610157370953244\n",
      "Objective value at epoch t=56 is 0.4609927562045863\n",
      "Objective value at epoch t=57 is 0.46097212568578677\n",
      "Objective value at epoch t=58 is 0.4609530812448578\n",
      "Objective value at epoch t=59 is 0.46093735386281354\n",
      "Objective value at epoch t=60 is 0.4609223945391827\n",
      "Objective value at epoch t=61 is 0.46090907597293196\n",
      "Objective value at epoch t=62 is 0.460896967972233\n",
      "Objective value at epoch t=63 is 0.4608860780816535\n",
      "Objective value at epoch t=64 is 0.4608761635991521\n",
      "Objective value at epoch t=65 is 0.46086737177481885\n",
      "Objective value at epoch t=66 is 0.4608594583907121\n",
      "Objective value at epoch t=67 is 0.4608521699263612\n",
      "Objective value at epoch t=68 is 0.46084592362225363\n",
      "Objective value at epoch t=69 is 0.4608401238644939\n",
      "Objective value at epoch t=70 is 0.4608348850023816\n",
      "Objective value at epoch t=71 is 0.4608302178746209\n",
      "Objective value at epoch t=72 is 0.46082599497494153\n",
      "Objective value at epoch t=73 is 0.46082217669544645\n",
      "Objective value at epoch t=74 is 0.4608187561045365\n",
      "Objective value at epoch t=75 is 0.4608156645580088\n",
      "Objective value at epoch t=76 is 0.46081291571424776\n",
      "Objective value at epoch t=77 is 0.4608104198275478\n",
      "Objective value at epoch t=78 is 0.46080816821171977\n",
      "Objective value at epoch t=79 is 0.46080615061335406\n",
      "Objective value at epoch t=80 is 0.460804332621362\n",
      "Objective value at epoch t=81 is 0.46080268977372213\n",
      "Objective value at epoch t=82 is 0.46080121891928216\n",
      "Objective value at epoch t=83 is 0.46079989259204035\n",
      "Objective value at epoch t=84 is 0.46079869667154105\n",
      "Objective value at epoch t=85 is 0.4607976236019713\n",
      "Objective value at epoch t=86 is 0.4607966558070588\n",
      "Objective value at epoch t=87 is 0.4607957865010485\n",
      "Objective value at epoch t=88 is 0.46079500178963284\n",
      "Objective value at epoch t=89 is 0.4607942980666948\n",
      "Objective value at epoch t=90 is 0.46079366376204733\n",
      "Objective value at epoch t=91 is 0.4607930920308821\n",
      "Objective value at epoch t=92 is 0.4607925785637332\n",
      "Objective value at epoch t=93 is 0.4607921159434342\n",
      "Objective value at epoch t=94 is 0.46079169962077743\n",
      "Objective value at epoch t=95 is 0.4607913248234555\n",
      "Objective value at epoch t=96 is 0.46079098757359127\n",
      "Objective value at epoch t=97 is 0.4607906839633601\n",
      "Objective value at epoch t=98 is 0.4607904108641564\n",
      "Objective value at epoch t=99 is 0.46079016498032194\n"
     ]
    }
   ],
   "source": [
    "lam = 1E-6\n",
    "stepsize = 0.1\n",
    "w, objvals_sgd = sgd(x_train, y_train, lam, stepsize)"
   ]
  },
  {
   "cell_type": "markdown",
   "metadata": {},
   "source": [
    "# 4. Compare GD with SGD\n",
    "\n",
    "Plot objective function values against epochs."
   ]
  },
  {
   "cell_type": "code",
   "execution_count": 20,
   "metadata": {},
   "outputs": [
    {
     "data": {
      "image/png": "[encoded data removed]",
      "text/plain": [
       "<Figure size 432x288 with 1 Axes>"
      ]
     },
     "metadata": {
      "needs_background": "light"
     },
     "output_type": "display_data"
    }
   ],
   "source": [
    "import matplotlib.pyplot as plt\n",
    "%matplotlib inline\n",
    "\n",
    "fig = plt.figure(figsize=(6, 4))\n",
    "\n",
    "epochs_gd = range(len(objvals_gd))\n",
    "epochs_sgd = range(len(objvals_sgd))\n",
    "\n",
    "line0, = plt.plot(epochs_gd, objvals_gd, '--b', LineWidth=4)\n",
    "line1, = plt.plot(epochs_sgd, objvals_sgd, '-r', LineWidth=2)\n",
    "plt.xlabel('Epochs', FontSize=20)\n",
    "plt.ylabel('Objective Value', FontSize=20)\n",
    "plt.xticks(FontSize=16)\n",
    "plt.yticks(FontSize=16)\n",
    "plt.legend([line0, line1], ['GD', 'SGD'], fontsize=20)\n",
    "plt.tight_layout()\n",
    "plt.show()\n",
    "fig.savefig('compare_gd_sgd.pdf', format='pdf', dpi=1200)"
   ]
  },
  {
   "cell_type": "markdown",
   "metadata": {},
   "source": [
    "# 5. Prediction"
   ]
  },
  {
   "cell_type": "code",
   "execution_count": 21,
   "metadata": {},
   "outputs": [],
   "source": [
    "# Predict class label\n",
    "# Inputs:\n",
    "#     w: d-by-1 matrix\n",
    "#     X: m-by-d matrix\n",
    "# Return:\n",
    "#     f: m-by-1 matrix, the predictions\n",
    "def predict(w, X):\n",
    "    xw = numpy.dot(X, w)\n",
    "    f = numpy.sign(xw)\n",
    "    return f"
   ]
  },
  {
   "cell_type": "code",
   "execution_count": 22,
   "metadata": {},
   "outputs": [
    {
     "name": "stdout",
     "output_type": "stream",
     "text": [
      "Training classification error is 0.21875\n"
     ]
    }
   ],
   "source": [
    "# evaluate training error\n",
    "f_train = predict(w, x_train)\n",
    "diff = numpy.abs(f_train - y_train) / 2\n",
    "error_train = numpy.mean(diff)\n",
    "print('Training classification error is ' + str(error_train))"
   ]
  },
  {
   "cell_type": "code",
   "execution_count": 23,
   "metadata": {},
   "outputs": [
    {
     "name": "stdout",
     "output_type": "stream",
     "text": [
      "Test classification error is 0.2578125\n"
     ]
    }
   ],
   "source": [
    "# evaluate test error\n",
    "f_test = predict(w, x_test)\n",
    "diff = numpy.abs(f_test - y_test) / 2\n",
    "error_test = numpy.mean(diff)\n",
    "print('Test classification error is ' + str(error_test))"
   ]
  },
  {
   "cell_type": "markdown",
   "metadata": {},
   "source": [
    "# 6. Mini-batch SGD (fill the code)\n",
    "\n"
   ]
  },
  {
   "cell_type": "markdown",
   "metadata": {},
   "source": [
    "## 6.1. Compute the objective $Q_I$ and its gradient using a batch of samples\n",
    "\n",
    "Define $Q_I (w) = \\frac{1}{b} \\sum_{i \\in I} \\log \\Big( 1 + \\exp \\big( - y_i x_i^T w \\big) \\Big) + \\frac{\\lambda}{2} \\| w \\|_2^2 $, where $I$ is a set containing $b$ indices randomly drawn from $\\{ 1, \\cdots , n \\}$ without replacement.\n",
    "\n",
    "The stochastic gradient at $w$ is $g_I = \\frac{\\partial Q_I }{ \\partial w} = \\frac{1}{b} \\sum_{i \\in I} \\frac{- y_i x_i }{1 + \\exp ( y_i x_i^T w)} + \\lambda w$."
   ]
  },
  {
   "cell_type": "code",
   "execution_count": 36,
   "metadata": {},
   "outputs": [],
   "source": [
    "# Calculate the objective Q_I and the gradient of Q_I\n",
    "# Inputs:\n",
    "#     w: d-by-1 matrix\n",
    "#     xi: b-by-d matrix\n",
    "#     yi: b-by-1 matrix\n",
    "#     lam: scalar, the regularization parameter\n",
    "#     b: integer, the batch size\n",
    "# Return:\n",
    "#     obj: scalar, the objective Q_i\n",
    "#     g: d-by-1 matrix, gradient of Q_i\n",
    "def mb_stochastic_objective_gradient(w, xi, yi, lam, b):\n",
    "    # Fill the function\n",
    "    # Follow the implementation of stochastic_objective_gradient\n",
    "    # Use matrix-vector multiplication; do not use FOR LOOP of vector-vector multiplications\n",
    "    yx = numpy.multiply(yi,xi)\n",
    "    yxw = numpy.matmul(yx,w)\n",
    "#     print(yx.shape,yxw.shape)\n",
    "    \n",
    "    loss = 1/b * numpy.sum(numpy.log(1 + numpy.exp(-yxw))) # scalar\n",
    "    reg = lam / 2 * numpy.sum(w * w) # scalar\n",
    "    obj = loss + reg\n",
    "    \n",
    "    g_loss = 1/b * numpy.sum(-yx/(1+numpy.exp(yxw)),axis=0)\n",
    "    g = g_loss.T + lam * w\n",
    "    \n",
    "    \n",
    "    return obj, g"
   ]
  },
  {
   "cell_type": "markdown",
   "metadata": {},
   "source": [
    "## 6.2. Implement mini-batch SGD\n",
    "\n",
    "Hints:\n",
    "1. In every epoch, randomly permute the $n$ samples (just like SGD).\n",
    "2. Each epoch has $\\frac{n}{b}$ iterations. In every iteration, use $b$ samples, and compute the gradient and objective using the ``mb_stochastic_objective_gradient`` function. In the next iteration, use the next $b$ samples, and so on.\n"
   ]
  },
  {
   "cell_type": "code",
   "execution_count": 68,
   "metadata": {},
   "outputs": [],
   "source": [
    "# Mini-Batch SGD for solving logistic regression\n",
    "# Inputs:\n",
    "#     x: n-by-d matrix\n",
    "#     y: n-by-1 matrix\n",
    "#     lam: scalar, the regularization parameter\n",
    "#     b: integer, the batch size\n",
    "#     stepsize: scalar\n",
    "#     max_epoch: integer, the maximal epochs\n",
    "#     w: d-by-1 matrix, initialization of w\n",
    "# Return:\n",
    "#     w: the solution\n",
    "#     objvals: record of each iteration's objective value\n",
    "def mb_sgd(x, y, lam, b, stepsize, max_epoch=100, w=None):\n",
    "    # Fill the function\n",
    "    # Follow the implementation of sgd\n",
    "    # Record one objective value per epoch (not per iteration!)\n",
    "    n, d = x.shape\n",
    "    objvals = numpy.zeros(max_epoch) # store the objective values\n",
    "    if w is None:\n",
    "        w = numpy.zeros((d, 1)) # zero initialization\n",
    "    \n",
    "    for t in range(max_epoch):\n",
    "        # randomly shuffle the samples\n",
    "        rand_indices = numpy.random.permutation(n)\n",
    "        x_rand = x[rand_indices, :]\n",
    "        y_rand = y[rand_indices, :]\n",
    "        \n",
    "        objval = 0 # accumulate the objective values\n",
    "        for i in range(n//b):\n",
    "            xi = x_rand[i*b:(i+1)*b, :] # 1-by-d matrix\n",
    "            yi = y_rand[i*b:(i+1)*b, :] # scalar\n",
    "            obj, g = mb_stochastic_objective_gradient(w, xi, yi, lam, b)\n",
    "            objval += obj\n",
    "            w -= stepsize * g\n",
    "        \n",
    "        stepsize *= 0.9 # decrease step size\n",
    "        objval /= n//b\n",
    "        objvals[t] = objval\n",
    "        print('Objective value at epoch t=' + str(t) + ' is ' + str(objval))\n",
    "    \n",
    "    \n",
    "    return w, objvals"
   ]
  },
  {
   "cell_type": "markdown",
   "metadata": {},
   "source": [
    "## 6.3. Run MB-SGD"
   ]
  },
  {
   "cell_type": "code",
   "execution_count": 79,
   "metadata": {},
   "outputs": [
    {
     "name": "stdout",
     "output_type": "stream",
     "text": [
      "Objective value at epoch t=0 is 0.5031235722591605\n",
      "Objective value at epoch t=1 is 0.4859047914502262\n",
      "Objective value at epoch t=2 is 0.4908356658238383\n",
      "Objective value at epoch t=3 is 0.483749633186594\n",
      "Objective value at epoch t=4 is 0.48003689131590194\n",
      "Objective value at epoch t=5 is 0.47365896083711023\n",
      "Objective value at epoch t=6 is 0.4765946080138751\n",
      "Objective value at epoch t=7 is 0.4775986304821947\n",
      "Objective value at epoch t=8 is 0.4745191373926173\n",
      "Objective value at epoch t=9 is 0.47330273208468077\n",
      "Objective value at epoch t=10 is 0.4710455436541359\n",
      "Objective value at epoch t=11 is 0.4685718214625777\n",
      "Objective value at epoch t=12 is 0.4701701873966413\n",
      "Objective value at epoch t=13 is 0.4697829279541496\n",
      "Objective value at epoch t=14 is 0.4685102992365386\n",
      "Objective value at epoch t=15 is 0.4672942586082036\n",
      "Objective value at epoch t=16 is 0.4670758894023842\n",
      "Objective value at epoch t=17 is 0.4668127867166511\n",
      "Objective value at epoch t=18 is 0.4654000204487477\n",
      "Objective value at epoch t=19 is 0.4642321431499926\n",
      "Objective value at epoch t=20 is 0.4652471573600937\n",
      "Objective value at epoch t=21 is 0.4649208488475657\n",
      "Objective value at epoch t=22 is 0.46458566173124016\n",
      "Objective value at epoch t=23 is 0.46388652418635684\n",
      "Objective value at epoch t=24 is 0.46381633315850196\n",
      "Objective value at epoch t=25 is 0.4632379997408106\n",
      "Objective value at epoch t=26 is 0.46323344295942387\n",
      "Objective value at epoch t=27 is 0.4628801390349394\n",
      "Objective value at epoch t=28 is 0.4626102829944342\n",
      "Objective value at epoch t=29 is 0.4626201481916282\n",
      "Objective value at epoch t=30 is 0.46227027298146045\n",
      "Objective value at epoch t=31 is 0.46215478916330033\n",
      "Objective value at epoch t=32 is 0.46204583507171676\n",
      "Objective value at epoch t=33 is 0.4619141272943786\n",
      "Objective value at epoch t=34 is 0.4618330922690254\n",
      "Objective value at epoch t=35 is 0.4616903214602095\n",
      "Objective value at epoch t=36 is 0.4615591515760157\n",
      "Objective value at epoch t=37 is 0.46154607312003043\n",
      "Objective value at epoch t=38 is 0.46148615545984156\n",
      "Objective value at epoch t=39 is 0.4614350975030327\n",
      "Objective value at epoch t=40 is 0.46131940158523366\n",
      "Objective value at epoch t=41 is 0.461273304362581\n",
      "Objective value at epoch t=42 is 0.46122075853343947\n",
      "Objective value at epoch t=43 is 0.46122359800881674\n",
      "Objective value at epoch t=44 is 0.461167857139323\n",
      "Objective value at epoch t=45 is 0.461107101770982\n",
      "Objective value at epoch t=46 is 0.4611065940188461\n",
      "Objective value at epoch t=47 is 0.46105535722644425\n",
      "Objective value at epoch t=48 is 0.46103232283246137\n",
      "Objective value at epoch t=49 is 0.4609892387494006\n",
      "Objective value at epoch t=50 is 0.46096985747593866\n",
      "Objective value at epoch t=51 is 0.46096224187504625\n",
      "Objective value at epoch t=52 is 0.46092811538439377\n",
      "Objective value at epoch t=53 is 0.4609338639396684\n",
      "Objective value at epoch t=54 is 0.46090870014142304\n",
      "Objective value at epoch t=55 is 0.46090370104337275\n",
      "Objective value at epoch t=56 is 0.4608878069095157\n",
      "Objective value at epoch t=57 is 0.46087482423757653\n",
      "Objective value at epoch t=58 is 0.46086750250235287\n",
      "Objective value at epoch t=59 is 0.46085521426182086\n",
      "Objective value at epoch t=60 is 0.46085090563193915\n",
      "Objective value at epoch t=61 is 0.46084616684941615\n",
      "Objective value at epoch t=62 is 0.4608433167003928\n",
      "Objective value at epoch t=63 is 0.4608386199763389\n",
      "Objective value at epoch t=64 is 0.460827227625314\n",
      "Objective value at epoch t=65 is 0.4608286368722105\n",
      "Objective value at epoch t=66 is 0.4608219319277234\n",
      "Objective value at epoch t=67 is 0.4608200342214966\n",
      "Objective value at epoch t=68 is 0.46081752213984944\n",
      "Objective value at epoch t=69 is 0.46081335931261325\n",
      "Objective value at epoch t=70 is 0.46081146884028656\n",
      "Objective value at epoch t=71 is 0.46080777156404507\n",
      "Objective value at epoch t=72 is 0.46080738152839673\n",
      "Objective value at epoch t=73 is 0.4608063221728253\n",
      "Objective value at epoch t=74 is 0.46080191558275924\n",
      "Objective value at epoch t=75 is 0.46080120929395535\n",
      "Objective value at epoch t=76 is 0.4608002873974583\n",
      "Objective value at epoch t=77 is 0.46079894571276164\n",
      "Objective value at epoch t=78 is 0.4607981907929313\n",
      "Objective value at epoch t=79 is 0.4607973889693538\n",
      "Objective value at epoch t=80 is 0.4607959245020418\n",
      "Objective value at epoch t=81 is 0.46079609441730496\n",
      "Objective value at epoch t=82 is 0.4607947500641352\n",
      "Objective value at epoch t=83 is 0.4607941372108496\n",
      "Objective value at epoch t=84 is 0.4607936366683041\n",
      "Objective value at epoch t=85 is 0.46079284888100974\n",
      "Objective value at epoch t=86 is 0.46079249358060437\n",
      "Objective value at epoch t=87 is 0.4607919875009615\n",
      "Objective value at epoch t=88 is 0.460791402732397\n",
      "Objective value at epoch t=89 is 0.4607914039694956\n",
      "Objective value at epoch t=90 is 0.4607909765328063\n",
      "Objective value at epoch t=91 is 0.4607905592817471\n",
      "Objective value at epoch t=92 is 0.46079042519776436\n",
      "Objective value at epoch t=93 is 0.4607900351545277\n",
      "Objective value at epoch t=94 is 0.4607899817021014\n",
      "Objective value at epoch t=95 is 0.4607898894149175\n",
      "Objective value at epoch t=96 is 0.46078958938676867\n",
      "Objective value at epoch t=97 is 0.4607893162243618\n",
      "Objective value at epoch t=98 is 0.4607891831238737\n",
      "Objective value at epoch t=99 is 0.4607891946638742\n"
     ]
    }
   ],
   "source": [
    "# MB-SGD with batch size b=8\n",
    "lam = 1E-6 # do not change\n",
    "b = 8 # do not change\n",
    "stepsize = 0.4 # you must tune this parameter\n",
    "\n",
    "w, objvals_mbsgd8 = mb_sgd(x_train, y_train, lam, b, stepsize)"
   ]
  },
  {
   "cell_type": "code",
   "execution_count": 80,
   "metadata": {},
   "outputs": [
    {
     "name": "stdout",
     "output_type": "stream",
     "text": [
      "Objective value at epoch t=0 is 0.577038583011536\n",
      "Objective value at epoch t=1 is 0.4954248202547243\n",
      "Objective value at epoch t=2 is 0.4788047423746738\n",
      "Objective value at epoch t=3 is 0.47126996487269707\n",
      "Objective value at epoch t=4 is 0.4678978230293784\n",
      "Objective value at epoch t=5 is 0.4659190045737061\n",
      "Objective value at epoch t=6 is 0.4650382211584452\n",
      "Objective value at epoch t=7 is 0.46453144362313836\n",
      "Objective value at epoch t=8 is 0.46382278355879747\n",
      "Objective value at epoch t=9 is 0.4631914809437112\n",
      "Objective value at epoch t=10 is 0.4632464924454391\n",
      "Objective value at epoch t=11 is 0.4627813338409606\n",
      "Objective value at epoch t=12 is 0.46205668348787315\n",
      "Objective value at epoch t=13 is 0.462177807481845\n",
      "Objective value at epoch t=14 is 0.4619348661406494\n",
      "Objective value at epoch t=15 is 0.4618088358161535\n",
      "Objective value at epoch t=16 is 0.46158224048746116\n",
      "Objective value at epoch t=17 is 0.4616400292613195\n",
      "Objective value at epoch t=18 is 0.46169513552415065\n",
      "Objective value at epoch t=19 is 0.4615068018488061\n",
      "Objective value at epoch t=20 is 0.4614611501558631\n",
      "Objective value at epoch t=21 is 0.46147571464624526\n",
      "Objective value at epoch t=22 is 0.4615173903135202\n",
      "Objective value at epoch t=23 is 0.4612789210873373\n",
      "Objective value at epoch t=24 is 0.46126235666436044\n",
      "Objective value at epoch t=25 is 0.46122729705316895\n",
      "Objective value at epoch t=26 is 0.4611725385390565\n",
      "Objective value at epoch t=27 is 0.46117608411131805\n",
      "Objective value at epoch t=28 is 0.4611114728078195\n",
      "Objective value at epoch t=29 is 0.4610848340969274\n",
      "Objective value at epoch t=30 is 0.4611624228188315\n",
      "Objective value at epoch t=31 is 0.4610885230072939\n",
      "Objective value at epoch t=32 is 0.46104986372506573\n",
      "Objective value at epoch t=33 is 0.4610373221483675\n",
      "Objective value at epoch t=34 is 0.46101943929120737\n",
      "Objective value at epoch t=35 is 0.46102470285571123\n",
      "Objective value at epoch t=36 is 0.4609981131638053\n",
      "Objective value at epoch t=37 is 0.461004354970465\n",
      "Objective value at epoch t=38 is 0.4609899534557959\n",
      "Objective value at epoch t=39 is 0.4609833505945712\n",
      "Objective value at epoch t=40 is 0.460972560591996\n",
      "Objective value at epoch t=41 is 0.4609612587363826\n",
      "Objective value at epoch t=42 is 0.4609524101778441\n",
      "Objective value at epoch t=43 is 0.4609452126329379\n",
      "Objective value at epoch t=44 is 0.4609378015430677\n",
      "Objective value at epoch t=45 is 0.4609445556027638\n",
      "Objective value at epoch t=46 is 0.4609444885839074\n",
      "Objective value at epoch t=47 is 0.46094247038487757\n",
      "Objective value at epoch t=48 is 0.46092246840614937\n",
      "Objective value at epoch t=49 is 0.4609286389482416\n",
      "Objective value at epoch t=50 is 0.4609343056798941\n",
      "Objective value at epoch t=51 is 0.4609271744733987\n",
      "Objective value at epoch t=52 is 0.4609208801325705\n",
      "Objective value at epoch t=53 is 0.46091386113949095\n",
      "Objective value at epoch t=54 is 0.46091482618967217\n",
      "Objective value at epoch t=55 is 0.46091287093197675\n",
      "Objective value at epoch t=56 is 0.46091200449937764\n",
      "Objective value at epoch t=57 is 0.4609110992101585\n",
      "Objective value at epoch t=58 is 0.46090702797786964\n",
      "Objective value at epoch t=59 is 0.4609065867429947\n",
      "Objective value at epoch t=60 is 0.4609075506102201\n",
      "Objective value at epoch t=61 is 0.4609064752911678\n",
      "Objective value at epoch t=62 is 0.46090611898043665\n",
      "Objective value at epoch t=63 is 0.46090413655521933\n",
      "Objective value at epoch t=64 is 0.4609044901336894\n",
      "Objective value at epoch t=65 is 0.4609024176968018\n",
      "Objective value at epoch t=66 is 0.46090443264800757\n",
      "Objective value at epoch t=67 is 0.46090151253609746\n",
      "Objective value at epoch t=68 is 0.4609021833220065\n",
      "Objective value at epoch t=69 is 0.46090114171968544\n",
      "Objective value at epoch t=70 is 0.46090029214083766\n",
      "Objective value at epoch t=71 is 0.4609014182075083\n",
      "Objective value at epoch t=72 is 0.4609006787934346\n",
      "Objective value at epoch t=73 is 0.4609006505772163\n",
      "Objective value at epoch t=74 is 0.4609003077550944\n",
      "Objective value at epoch t=75 is 0.46090009801504966\n",
      "Objective value at epoch t=76 is 0.4608998155398439\n",
      "Objective value at epoch t=77 is 0.46089948251948953\n",
      "Objective value at epoch t=78 is 0.46089957923010816\n",
      "Objective value at epoch t=79 is 0.46089938221441146\n",
      "Objective value at epoch t=80 is 0.46089945183066294\n",
      "Objective value at epoch t=81 is 0.46089930285363484\n",
      "Objective value at epoch t=82 is 0.46089921115820986\n",
      "Objective value at epoch t=83 is 0.46089918133090535\n",
      "Objective value at epoch t=84 is 0.46089885272428804\n",
      "Objective value at epoch t=85 is 0.4608989053763133\n",
      "Objective value at epoch t=86 is 0.4608989692491952\n",
      "Objective value at epoch t=87 is 0.4608987413233157\n",
      "Objective value at epoch t=88 is 0.4608989430501101\n",
      "Objective value at epoch t=89 is 0.46089888278762486\n",
      "Objective value at epoch t=90 is 0.46089869899800806\n",
      "Objective value at epoch t=91 is 0.4608987075969666\n",
      "Objective value at epoch t=92 is 0.4608985712531261\n",
      "Objective value at epoch t=93 is 0.46089860854909964\n",
      "Objective value at epoch t=94 is 0.4608986431247116\n",
      "Objective value at epoch t=95 is 0.46089857198885475\n",
      "Objective value at epoch t=96 is 0.4608985114653848\n",
      "Objective value at epoch t=97 is 0.4608984900203234\n",
      "Objective value at epoch t=98 is 0.4608985488107436\n",
      "Objective value at epoch t=99 is 0.46089846288180175\n"
     ]
    }
   ],
   "source": [
    "# MB-SGD with batch size b=64\n",
    "lam = 1E-6 # do not change\n",
    "b = 64 # do not change\n",
    "stepsize = 0.4 # you must tune this parameter\n",
    "\n",
    "w, objvals_mbsgd64 = mb_sgd(x_train, y_train, lam, b, stepsize)"
   ]
  },
  {
   "cell_type": "markdown",
   "metadata": {},
   "source": [
    "# 7. Plot and compare GD, SGD, and MB-SGD"
   ]
  },
  {
   "cell_type": "markdown",
   "metadata": {},
   "source": [
    "You are required to compare the following algorithms:\n",
    "\n",
    "- Gradient descent (GD)\n",
    "\n",
    "- SGD\n",
    "\n",
    "- MB-SGD with b=8\n",
    "\n",
    "- MB-SGD with b=64\n",
    "\n",
    "Follow the code in Section 4 to plot ```objective function value``` against ```epochs```. There should be four curves in the plot; each curve corresponds to one algorithm."
   ]
  },
  {
   "cell_type": "markdown",
   "metadata": {},
   "source": [
    "Hint: Logistic regression with $\\ell_2$-norm regularization is a strongly convex optimization problem. All the algorithms will converge to the same solution. **In the end, the ``objective function value`` of the 4 algorithms will be the same. If not the same, your implementation must be wrong. Do NOT submit wrong code and wrong result!**"
   ]
  },
  {
   "cell_type": "code",
   "execution_count": 81,
   "metadata": {},
   "outputs": [
    {
     "data": {
      "image/png": "[encoded data removed]",
      "text/plain": [
       "<Figure size 432x288 with 1 Axes>"
      ]
     },
     "metadata": {
      "needs_background": "light"
     },
     "output_type": "display_data"
    }
   ],
   "source": [
    "# plot the 4 curves:\n",
    "\n",
    "fig = plt.figure(figsize=(6, 4))\n",
    "\n",
    "epochs_gd = range(len(objvals_gd))\n",
    "epochs_sgd = range(len(objvals_sgd))\n",
    "epochs_mbsgdB8 = range(len(objvals_mbsgd8))\n",
    "epochs_mbsgdB64 = range(len(objvals_mbsgd64))\n",
    "\n",
    "line0, = plt.plot(epochs_gd, objvals_gd, '--b', LineWidth=4)\n",
    "line1, = plt.plot(epochs_sgd, objvals_sgd, '-r', LineWidth=2)\n",
    "line2, = plt.plot(epochs_mbsgdB8, objvals_mbsgd8, '--g', LineWidth=4)\n",
    "line3, = plt.plot(epochs_mbsgdB64, objvals_mbsgd64, '-y', LineWidth=2)\n",
    "plt.xlabel('Epochs', FontSize=20)\n",
    "plt.ylabel('Objective Value', FontSize=20)\n",
    "plt.xticks(FontSize=16)\n",
    "plt.yticks(FontSize=16)\n",
    "plt.legend([line0, line1, line2, line3], ['GD', 'SGD', 'MB-SGD with b=8', 'MB-SGD with b=64'], fontsize=20)\n",
    "plt.tight_layout()\n",
    "plt.show()\n",
    "fig.savefig('compare_gd_sgd.pdf', format='pdf', dpi=1200)"
   ]
  },
  {
   "cell_type": "markdown",
   "metadata": {},
   "source": []
  }
 ],
 "metadata": {
  "kernelspec": {
   "display_name": "Python 3",
   "language": "python",
   "name": "python3"
  },
  "language_info": {
   "codemirror_mode": {
    "name": "ipython",
    "version": 3
   },
   "file_extension": ".py",
   "mimetype": "text/x-python",
   "name": "python",
   "nbconvert_exporter": "python",
   "pygments_lexer": "ipython3",
   "version": "3.7.4"
  }
 },
 "nbformat": 4,
 "nbformat_minor": 2
}
